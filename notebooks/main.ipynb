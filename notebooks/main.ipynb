{
 "cells": [
  {
   "cell_type": "code",
   "id": "initial_id",
   "metadata": {
    "collapsed": true,
    "ExecuteTime": {
     "end_time": "2025-01-22T11:57:23.532141Z",
     "start_time": "2025-01-22T11:57:13.435425Z"
    }
   },
   "source": [
    "import re\n",
    "import spacy\n",
    "import logging\n",
    "from emoji import demojize\n",
    "from transformers import pipeline, AutoTokenizer, AutoModelForSequenceClassification\n",
    "from langdetect import detect"
   ],
   "outputs": [],
   "execution_count": 1
  },
  {
   "metadata": {},
   "cell_type": "markdown",
   "source": "Инциализация ",
   "id": "89d8d15d49dfe282"
  },
  {
   "metadata": {
    "ExecuteTime": {
     "end_time": "2025-01-22T12:00:01.851773Z",
     "start_time": "2025-01-22T11:59:57.811449Z"
    }
   },
   "cell_type": "code",
   "source": [
    "# Настройка логирования\n",
    "logging.basicConfig(level=logging.INFO, format='%(asctime)s - %(levelname)s - %(message)s')\n",
    "\n",
    "def initialize_spacy_models():\n",
    "    \"\"\"\n",
    "    Инициализирует SpaCy модели для каждого языка.\n",
    "    \"\"\"\n",
    "    return {\n",
    "        \"en\": spacy.load(\"en_core_web_sm\"),\n",
    "        \"ru\": spacy.load(\"ru_core_news_sm\"),\n",
    "        \"lt\": spacy.load(\"lt_core_news_sm\")\n",
    "    }\n",
    "\n",
    "def lt_model_init():\n",
    "    \"\"\"\n",
    "    innit lithuanian emotion classifier\n",
    "    :return: pipeline\n",
    "    \"\"\"\n",
    "    tokenizer = AutoTokenizer.from_pretrained(r'C:\\Users\\Viktor\\Documents\\TMS\\NLP\\NLP_psyhology_support\\models\\lt_emotion_model_v1.1')\n",
    "    model = AutoModelForSequenceClassification.from_pretrained(r'C:\\Users\\Viktor\\Documents\\TMS\\NLP\\NLP_psyhology_support\\models\\lt_emotion_model_v1.1')\n",
    "    emotion_classifier = pipeline(\"text-classification\", model=model, tokenizer=tokenizer, top_k=None)\n",
    "    return emotion_classifier\n",
    "\n",
    "def initialize_emotion_classifiers():\n",
    "    \"\"\"\n",
    "    Инициализирует классификаторы эмоций для каждого языка.\n",
    "    \"\"\"\n",
    "    return {\n",
    "        \"ru\": pipeline(\"text-classification\", model=\"seara/rubert-tiny2-russian-emotion-detection-ru-go-emotions\", top_k=None),\n",
    "        \"en\": pipeline(\"text-classification\", model=\"SamLowe/roberta-base-go_emotions\", top_k=None),\n",
    "        \"lt\": lt_model_init()\n",
    "    }\n",
    "\n",
    "spacy_models = initialize_spacy_models()\n",
    "emotion_classifiers = initialize_emotion_classifiers()\n"
   ],
   "id": "4b9b80e0072e2aac",
   "outputs": [
    {
     "name": "stderr",
     "output_type": "stream",
     "text": [
      "2025-01-22 13:59:58,740 - INFO - Loading dictionaries from C:\\Users\\Viktor\\Documents\\TMS\\NLP\\NLP_psyhology_support\\venv\\Lib\\site-packages\\pymorphy3_dicts_ru\\data\n",
      "2025-01-22 13:59:58,774 - INFO - format: 2.4, revision: 417150, updated: 2022-01-08T22:09:24.565962\n",
      "Device set to use cpu\n",
      "Device set to use cpu\n",
      "Device set to use cpu\n"
     ]
    }
   ],
   "execution_count": 3
  },
  {
   "metadata": {},
   "cell_type": "markdown",
   "source": "Прердварительная обработка текста.",
   "id": "9ae5c6591bab30e1"
  },
  {
   "metadata": {
    "ExecuteTime": {
     "end_time": "2025-01-22T12:00:11.847435Z",
     "start_time": "2025-01-22T12:00:11.843149Z"
    }
   },
   "cell_type": "code",
   "source": [
    "def detect_language(text):\n",
    "    \"\"\"\n",
    "    Определяет язык текста.\n",
    "    :param text: Входной текст\n",
    "    :return: Код языка (ru, en, lt)\n",
    "    \"\"\"\n",
    "    return detect(text)"
   ],
   "id": "f06aad0b99549c40",
   "outputs": [],
   "execution_count": 4
  },
  {
   "metadata": {
    "ExecuteTime": {
     "end_time": "2025-01-22T12:00:56.192133Z",
     "start_time": "2025-01-22T12:00:56.186322Z"
    }
   },
   "cell_type": "code",
   "source": [
    "def preprocess_text(text):\n",
    "    \"\"\"\n",
    "    Обработка текста: приведение к нижнему регистру, очистка, токенизация, лемматизация, удаление стоп-слов.\n",
    "    :param text: входной текст\n",
    "    :param lang: язык текста (ru, en, lt)\n",
    "    :return: список лемматизированных токенов\n",
    "    \"\"\"\n",
    "    # Приведение текста к нижнему регистру\n",
    "    text = text.lower()\n",
    "\n",
    "    # Удаление HTML-тегов\n",
    "    text = re.sub(r\"<.*?>\", \"\", text)\n",
    "\n",
    "    # Удаление эмодзи\n",
    "    text = demojize(text)\n",
    "\n",
    "    # Удаление лишних символов\n",
    "    text = re.sub(r\"[^\\w\\s]\", \" \", text)\n",
    "    text = re.sub(r\"\\s+\", \" \", text).strip()\n",
    "    \n",
    "    lang = detect_language(text)\n",
    "    # Токенизация и лемматизация\n",
    "    tokens = []\n",
    "    if lang in [\"ru\", \"en\", \"lt\"]:\n",
    "        doc = spacy_models[lang](text)\n",
    "        tokens = [\n",
    "            token.lemma_ \n",
    "            for token in doc \n",
    "            if token.text.lower() not in spacy_models[lang].Defaults.stop_words and not token.is_punct\n",
    "        ]\n",
    "        logging.info(f\"Лемматизация для языка {lang}: {tokens}\")\n",
    "\n",
    "    return tokens"
   ],
   "id": "18de2964e252b20a",
   "outputs": [],
   "execution_count": 7
  },
  {
   "metadata": {
    "ExecuteTime": {
     "end_time": "2025-01-22T12:00:20.300757Z",
     "start_time": "2025-01-22T12:00:20.294718Z"
    }
   },
   "cell_type": "code",
   "source": [
    "def classify_emotion(text):\n",
    "    \"\"\"\n",
    "    Классификация эмоций в тексте.\n",
    "    :param text: входной текст\n",
    "    :return: список эмоций с вероятностями\n",
    "    \"\"\"\n",
    "    lang = detect_language(text)\n",
    "    if lang not in emotion_classifiers:\n",
    "        return lang, {\"error\": f\"{lang} - Language not supported\"}\n",
    "\n",
    "    classifier = emotion_classifiers[lang]\n",
    "    try:\n",
    "        results = classifier(text)[0]\n",
    "        if not results or not isinstance(results, list):\n",
    "            logging.warning(f\"Unexpected classifier output for language {lang}: {results}\")\n",
    "            return {\"error\": \"Classifier returned unexpected results\"}\n",
    "        return {result['label']: result['score'] for result in results}\n",
    "    except Exception as e:\n",
    "        logging.error(f\"Error during emotion classification for language {lang}: {e}\")\n",
    "        return {\"error\": \"Failed to classify emotions\"}"
   ],
   "id": "3739d93131bb8688",
   "outputs": [],
   "execution_count": 5
  },
  {
   "metadata": {},
   "cell_type": "markdown",
   "source": "Тест для обработки текста",
   "id": "8fa699df1f5901e5"
  },
  {
   "metadata": {
    "ExecuteTime": {
     "end_time": "2025-01-22T12:01:04.883851Z",
     "start_time": "2025-01-22T12:01:02.209827Z"
    }
   },
   "cell_type": "code",
   "source": [
    "if __name__ == \"__main__\":\n",
    "    texts = [\n",
    "    \"Я так устал после работы! Нужно отдохнуть.\",\n",
    "    \"I am so tired after work! I need a break.\",\n",
    "    \"Esu pavargęs po darbo. Reikia poilsio.\"\n",
    "]\n",
    "\n",
    "    for text in texts:\n",
    "        lang = detect_language(text)\n",
    "        print(f\"Язык: {lang}\")\n",
    "        print(f\"Исходный текст: {text}\")\n",
    "        print(f\"Обработанный текст: {preprocess_text(text)}\")\n",
    "        print(\"-\")\n",
    "        \n",
    "        \n",
    "    for text in texts:\n",
    "        print(f\"Язык: {detect_language(text)}\")\n",
    "        print(f\"Исходный текст: {text}\")\n",
    "        emotions = classify_emotion(text)\n",
    "        print(f\"Эмоции: {emotions}\")"
   ],
   "id": "7c5ab8f4d3c56af6",
   "outputs": [
    {
     "name": "stderr",
     "output_type": "stream",
     "text": [
      "2025-01-22 14:01:02,257 - INFO - Лемматизация для языка ru: ['устать', 'работа', 'отдохнуть']\n",
      "2025-01-22 14:01:02,281 - INFO - Лемматизация для языка en: ['tired', 'work', 'need', 'break']\n",
      "2025-01-22 14:01:02,298 - INFO - Лемматизация для языка lt: ['būti', 'pavargti', 'darbas', 'reikėti', 'poilsys']\n"
     ]
    },
    {
     "name": "stdout",
     "output_type": "stream",
     "text": [
      "Язык: ru\n",
      "Исходный текст: Я так устал после работы! Нужно отдохнуть.\n",
      "Обработанный текст: ['устать', 'работа', 'отдохнуть']\n",
      "-\n",
      "Язык: en\n",
      "Исходный текст: I am so tired after work! I need a break.\n",
      "Обработанный текст: ['tired', 'work', 'need', 'break']\n",
      "-\n",
      "Язык: lt\n",
      "Исходный текст: Esu pavargęs po darbo. Reikia poilsio.\n",
      "Обработанный текст: ['būti', 'pavargti', 'darbas', 'reikėti', 'poilsys']\n",
      "-\n",
      "Язык: ru\n",
      "Исходный текст: Я так устал после работы! Нужно отдохнуть.\n",
      "Эмоции: {'sadness': 0.4984441101551056, 'caring': 0.19223575294017792, 'disappointment': 0.13804705440998077, 'neutral': 0.13139426708221436, 'joy': 0.08005299419164658, 'remorse': 0.0411076694726944, 'approval': 0.03306541219353676, 'annoyance': 0.029262900352478027, 'optimism': 0.026494909077882767, 'realization': 0.02351151593029499, 'nervousness': 0.016141101717948914, 'desire': 0.016081485897302628, 'relief': 0.015784161165356636, 'disapproval': 0.012920849956572056, 'fear': 0.01154495682567358, 'excitement': 0.010527616366744041, 'embarrassment': 0.00966482050716877, 'amusement': 0.008300519548356533, 'grief': 0.008168899454176426, 'disgust': 0.0073038735426962376, 'anger': 0.006097923498600721, 'confusion': 0.005651126615703106, 'gratitude': 0.003974958788603544, 'curiosity': 0.002807427430525422, 'pride': 0.0026273196563124657, 'love': 0.0024236561730504036, 'admiration': 0.0021764985285699368, 'surprise': 0.0016216525109484792}\n",
      "Язык: en\n",
      "Исходный текст: I am so tired after work! I need a break.\n",
      "Эмоции: {'neutral': 0.19776445627212524, 'disappointment': 0.19654491543769836, 'sadness': 0.19312089681625366, 'desire': 0.18950410187244415, 'annoyance': 0.09376838058233261, 'approval': 0.03473958745598793, 'realization': 0.021390723064541817, 'caring': 0.018819386139512062, 'disapproval': 0.01874612644314766, 'joy': 0.008093481883406639, 'nervousness': 0.007800170220434666, 'disgust': 0.006316776387393475, 'optimism': 0.006112680304795504, 'remorse': 0.0059128147549927235, 'anger': 0.005376381799578667, 'relief': 0.005228987894952297, 'love': 0.00418291287496686, 'grief': 0.003630109364166856, 'admiration': 0.003214795608073473, 'excitement': 0.002865757327526808, 'embarrassment': 0.0028530117124319077, 'curiosity': 0.0018364830175414681, 'confusion': 0.0014547290047630668, 'pride': 0.0013675708323717117, 'gratitude': 0.001328592305071652, 'amusement': 0.001293302164413035, 'fear': 0.0012808162719011307, 'surprise': 0.0008641703752800822}\n",
      "Язык: lt\n",
      "Исходный текст: Esu pavargęs po darbo. Reikia poilsio.\n",
      "Эмоции: {'LABEL_0': 0.9996547698974609, 'LABEL_1': 0.0003398558183107525, 'LABEL_20': 2.738280215908162e-07, 'LABEL_15': 2.659494953149988e-07, 'LABEL_21': 2.5375337031618983e-07, 'LABEL_12': 2.432067276458838e-07, 'LABEL_7': 2.251610453640751e-07, 'LABEL_17': 2.2172373803641676e-07, 'LABEL_6': 2.2148975631353096e-07, 'LABEL_22': 2.2027769830401667e-07, 'LABEL_9': 2.1349661949443544e-07, 'LABEL_25': 1.986179114510378e-07, 'LABEL_24': 1.9413388940847653e-07, 'LABEL_16': 1.9332765077706426e-07, 'LABEL_11': 1.89510615200561e-07, 'LABEL_18': 1.848810029514425e-07, 'LABEL_3': 1.8380016797436838e-07, 'LABEL_8': 1.8127673229173524e-07, 'LABEL_26': 1.8098427290169639e-07, 'LABEL_4': 1.7167812416118977e-07, 'LABEL_13': 1.7028560250764713e-07, 'LABEL_2': 1.695853200089914e-07, 'LABEL_23': 1.690998630010654e-07, 'LABEL_14': 1.6841282501900423e-07, 'LABEL_10': 1.593810310396293e-07, 'LABEL_19': 1.4590322905405628e-07, 'LABEL_27': 1.3289709954733553e-07, 'LABEL_5': 1.274215577495852e-07}\n"
     ]
    }
   ],
   "execution_count": 8
  },
  {
   "metadata": {},
   "cell_type": "markdown",
   "source": "Модели для классификации эмоций",
   "id": "149b80f1b233bb8f"
  },
  {
   "metadata": {},
   "cell_type": "code",
   "source": "",
   "id": "fcf72527af965e45",
   "outputs": [],
   "execution_count": null
  }
 ],
 "metadata": {
  "kernelspec": {
   "display_name": "Python 3",
   "language": "python",
   "name": "python3"
  },
  "language_info": {
   "codemirror_mode": {
    "name": "ipython",
    "version": 2
   },
   "file_extension": ".py",
   "mimetype": "text/x-python",
   "name": "python",
   "nbconvert_exporter": "python",
   "pygments_lexer": "ipython2",
   "version": "2.7.6"
  }
 },
 "nbformat": 4,
 "nbformat_minor": 5
}

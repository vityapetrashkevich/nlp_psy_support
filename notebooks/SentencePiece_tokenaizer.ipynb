{
 "cells": [
  {
   "metadata": {
    "ExecuteTime": {
     "end_time": "2025-02-24T11:06:43.175787Z",
     "start_time": "2025-02-24T11:06:40.722430Z"
    }
   },
   "cell_type": "code",
   "source": [
    "import os\n",
    "import tempfile\n",
    "import sentencepiece as spm\n",
    "from tqdm import tqdm"
   ],
   "id": "4ea6bcc9c448f6b7",
   "outputs": [],
   "execution_count": 1
  },
  {
   "metadata": {
    "ExecuteTime": {
     "end_time": "2025-02-24T11:14:55.586074Z",
     "start_time": "2025-02-24T11:14:55.574048Z"
    }
   },
   "cell_type": "code",
   "source": [
    "os.chdir(r\"C:\\Users\\Viktor\\Documents\\TMS\\NLP\\NLP_psyhology_support\")\n",
    "print(os.getcwd())"
   ],
   "id": "7a24b7f76ea52cfd",
   "outputs": [
    {
     "name": "stdout",
     "output_type": "stream",
     "text": [
      "C:\\Users\\Viktor\\Documents\\TMS\\NLP\\NLP_psyhology_support\n"
     ]
    }
   ],
   "execution_count": 8
  },
  {
   "metadata": {
    "ExecuteTime": {
     "end_time": "2025-02-24T13:14:12.023714Z",
     "start_time": "2025-02-24T13:13:59.606800Z"
    }
   },
   "cell_type": "code",
   "source": [
    "# Пути к исходным файлам\n",
    "file_paths = [\"./data/ru_taiga-ud-train.txt\", \"./data/lt_full_corpus.txt\", \"./data/en_eslspok-ud-train.txt\"]\n",
    "\n",
    "# Создание временного файла\n",
    "with tempfile.NamedTemporaryFile(mode=\"w+\", delete=False, encoding=\"utf-8\") as temp_file:\n",
    "    # Читаем данные из всех файлов и записываем их во временный файл\n",
    "    for file_path in file_paths:\n",
    "        try:\n",
    "            with open(file_path, \"r\", encoding=\"utf-8\") as f:\n",
    "                temp_file.write(f.read() + \"\\n\")  # Добавляем перенос строки между файлами\n",
    "        except UnicodeDecodeError as e:\n",
    "            print(file_path, \"is UnicodeDecodeError\")\n",
    "            raise e\n",
    "    # Перемещаем указатель в начало временного файла, чтобы прочитать его содержимое\n",
    "    temp_file.flush()\n",
    "    tmp_path = temp_file.name\n",
    "    # Обучаем модель на корпусе\n",
    "try:\n",
    "    tqdm(spm.SentencePieceTrainer.Train(input=tmp_path, model_prefix='./models/ru_lt_en_spm', vocab_size=18000, character_coverage=1, model_type=\"bpe\",user_defined_symbols=\"[PAD],[UNK],[CLS],[SEP],[MASK]\"))\n",
    "finally:\n",
    "    print(f\"tmp {tmp_path} file deleting\")\n",
    "    os.remove(tmp_path)"
   ],
   "id": "8d5129131735b796",
   "outputs": [
    {
     "name": "stdout",
     "output_type": "stream",
     "text": [
      "tmp C:\\Users\\Viktor\\AppData\\Local\\Temp\\tmpav3p0v88 file deleting\n"
     ]
    }
   ],
   "execution_count": 29
  },
  {
   "metadata": {
    "ExecuteTime": {
     "end_time": "2025-02-24T12:13:52.226460Z",
     "start_time": "2025-02-24T12:13:52.197277Z"
    }
   },
   "cell_type": "code",
   "source": [
    "sp = spm.SentencePieceProcessor()\n",
    "sp.load(\"ru_lt_en_spm.model\")\n",
    "text1 = \"Привет, мир! Это тестовая строка.\"\n",
    "text2 = \"Hello.  I'm a very long sentence.\"\n",
    "text3 =  'Rusija, panaši į Kemalio Turkiją, atitiktų mūsų interesus, nors ne mūsų amžinai konfrontuojančių ir nieko kito nemokančių politikų interesus.'\n",
    "tokens = sp.encode(text1, out_type=str)  # out_type=str → получать текстовые токены\n",
    "print(\"Токены Ru:\", tokens)\n",
    "tokens = sp.encode(text2, out_type=str)  # out_type=str → получать текстовые токены\n",
    "print(\"Токены EN:\", tokens)\n",
    "tokens = sp.encode(text3, out_type=str)  # out_type=str → получать текстовые токены\n",
    "print(\"Токены LT:\", tokens)"
   ],
   "id": "6f50a652d0370940",
   "outputs": [
    {
     "name": "stdout",
     "output_type": "stream",
     "text": [
      "Токены Ru: ['▁Привет', ',', '▁мир', '!', '▁Это', '▁те', 'сто', 'вая', '▁стро', 'ка', '.']\n",
      "Токены EN: ['▁H', 'ello', '.', '▁I', \"'\", 'm', '▁a', '▁very', '▁l', 'ong', '▁s', 'ent', 'ence', '.']\n",
      "Токены LT: ['▁Rus', 'ija', ',', '▁panaš', 'i', '▁į', '▁K', 'em', 'alio', '▁Turk', 'iją', ',', '▁atitik', 'tų', '▁mūsų', '▁interes', 'us', ',', '▁nors', '▁ne', '▁mūsų', '▁amžin', 'ai', '▁konf', 'r', 'ont', 'uojančių', '▁ir', '▁nieko', '▁kito', '▁nem', 'ok', 'ančių', '▁politikų', '▁interes', 'us', '.']\n"
     ]
    }
   ],
   "execution_count": 28
  },
  {
   "metadata": {},
   "cell_type": "code",
   "outputs": [],
   "execution_count": null,
   "source": "",
   "id": "769fb7039d474cf0"
  }
 ],
 "metadata": {
  "kernelspec": {
   "display_name": "Python 3",
   "language": "python",
   "name": "python3"
  },
  "language_info": {
   "codemirror_mode": {
    "name": "ipython",
    "version": 2
   },
   "file_extension": ".py",
   "mimetype": "text/x-python",
   "name": "python",
   "nbconvert_exporter": "python",
   "pygments_lexer": "ipython2",
   "version": "2.7.6"
  }
 },
 "nbformat": 4,
 "nbformat_minor": 5
}

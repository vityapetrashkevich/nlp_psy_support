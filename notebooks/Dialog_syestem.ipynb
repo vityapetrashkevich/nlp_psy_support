{
 "cells": [
  {
   "metadata": {
    "ExecuteTime": {
     "end_time": "2025-01-20T17:47:36.406766Z",
     "start_time": "2025-01-20T17:47:36.345894Z"
    }
   },
   "cell_type": "code",
   "source": [
    "from transformers import pipeline, AutoTokenizer, AutoModelForCausalLM\n",
    "from collections import deque\n",
    "from langdetect import detect\n",
    "import logging"
   ],
   "id": "22e36f5951286732",
   "outputs": [],
   "execution_count": 21
  },
  {
   "metadata": {
    "ExecuteTime": {
     "end_time": "2025-01-20T17:47:37.034214Z",
     "start_time": "2025-01-20T17:47:37.018207Z"
    }
   },
   "cell_type": "code",
   "source": [
    "def initialize_english_text_generator():\n",
    "    \"\"\"\n",
    "    Инициализирует модель генерации текста на английском языке.\n",
    "    \"\"\"\n",
    "    model_name = \"gpt2\"  # Можно заменить на другую модель, например, EleutherAI/gpt-neo-2.7B\n",
    "    tokenizer = AutoTokenizer.from_pretrained(model_name)\n",
    "    model = AutoModelForCausalLM.from_pretrained(model_name)\n",
    "    return tokenizer, model"
   ],
   "id": "1dfb4016acdf072b",
   "outputs": [],
   "execution_count": 22
  },
  {
   "metadata": {
    "ExecuteTime": {
     "end_time": "2025-01-20T17:47:37.908430Z",
     "start_time": "2025-01-20T17:47:37.882420Z"
    }
   },
   "cell_type": "code",
   "source": [
    "conversation_context = {}\n",
    "\n",
    "def update_conversation_context(user_id, message, max_history=10):\n",
    "    \"\"\"\n",
    "    Обновляет историю сообщений для пользователя.\n",
    "    :param user_id: Уникальный идентификатор пользователя.\n",
    "    :param message: Сообщение для добавления в контекст.\n",
    "    :param max_history: Максимальное количество сообщений в истории.\n",
    "    \"\"\"\n",
    "    if user_id not in conversation_context:\n",
    "        conversation_context[user_id] = deque(maxlen=max_history)\n",
    "    conversation_context[user_id].append(message)"
   ],
   "id": "e4ed041389f6453b",
   "outputs": [],
   "execution_count": 23
  },
  {
   "metadata": {
    "ExecuteTime": {
     "end_time": "2025-01-20T17:47:38.895279Z",
     "start_time": "2025-01-20T17:47:38.883413Z"
    }
   },
   "cell_type": "code",
   "source": [
    "def get_conversation_context(user_id):\n",
    "    \"\"\"\n",
    "    Возвращает историю сообщений для пользователя.\n",
    "    :param user_id: Уникальный идентификатор пользователя.\n",
    "    :return: История сообщений.\n",
    "    \"\"\"\n",
    "    return list(conversation_context.get(user_id, []))"
   ],
   "id": "a46b552e0689686c",
   "outputs": [],
   "execution_count": 24
  },
  {
   "metadata": {
    "ExecuteTime": {
     "end_time": "2025-01-20T17:47:39.639636Z",
     "start_time": "2025-01-20T17:47:39.604724Z"
    }
   },
   "cell_type": "code",
   "source": [
    "def generate_response_with_context(user_id, user_message, tokenizer, model, max_new_tokens=100):\n",
    "    \"\"\"\n",
    "    Генерирует ответ с учётом контекста беседы.\n",
    "    :param user_id: Уникальный идентификатор пользователя.\n",
    "    :param user_message: Сообщение пользователя.\n",
    "    :param tokenizer: Токенизатор модели.\n",
    "    :param model: Модель генерации текста.\n",
    "    :param max_new_tokens: Максимальное количество новых токенов.\n",
    "    :return: Ответ бота.\n",
    "    \"\"\"\n",
    "    # Обновить историю сообщений\n",
    "    update_conversation_context(user_id, f\"User: {user_message}\")\n",
    "    \n",
    "    # Получить текущий контекст беседы\n",
    "    context = get_conversation_context(user_id)\n",
    "    \n",
    "    # Создать prompt на основе контекста\n",
    "    prompt = \"\\n\".join(context) + f\"\\nBot:\"\n",
    "    \n",
    "    # Генерация ответа\n",
    "    inputs = tokenizer(prompt, return_tensors=\"pt\", truncation=True)\n",
    "    outputs = model.generate(\n",
    "        inputs[\"input_ids\"],\n",
    "        max_new_tokens=max_new_tokens,\n",
    "        pad_token_id=tokenizer.eos_token_id,\n",
    "        do_sample=True,\n",
    "        temperature=0.7,\n",
    "        top_k=50,\n",
    "        top_p=0.9\n",
    "    )\n",
    "    response = tokenizer.decode(outputs[0], skip_special_tokens=True)\n",
    "    \n",
    "    # Добавить ответ бота в контекст\n",
    "    update_conversation_context(user_id, f\"Bot: {response}\")\n",
    "    \n",
    "    return response"
   ],
   "id": "b06cc9f1acce744a",
   "outputs": [],
   "execution_count": 25
  },
  {
   "metadata": {
    "ExecuteTime": {
     "end_time": "2025-01-20T17:47:40.680888Z",
     "start_time": "2025-01-20T17:47:40.667890Z"
    }
   },
   "cell_type": "code",
   "source": [
    "def generate_english_response(prompt, tokenizer, model, max_new_tokens=100):\n",
    "    \"\"\"\n",
    "    Генерирует ответ на английском языке.\n",
    "    :param prompt: Входной текст.\n",
    "    :param tokenizer: Токенизатор модели.\n",
    "    :param model: Модель генерации текста.\n",
    "    :param max_new_tokens: Максимальное количество новых токенов.\n",
    "    :return: Сгенерированный текст.\n",
    "    \"\"\"\n",
    "    inputs = tokenizer(prompt, return_tensors=\"pt\", truncation=True)\n",
    "    outputs = model.generate(\n",
    "        inputs[\"input_ids\"], \n",
    "        max_new_tokens=max_new_tokens, \n",
    "        pad_token_id=tokenizer.eos_token_id,\n",
    "        num_return_sequences=1,\n",
    "        do_sample=True,  # Включить случайность для большей вариативности\n",
    "        temperature=0.7,  # Регулировка креативности\n",
    "        top_k=50,  # Ограничение на выбор токенов\n",
    "        top_p=0.9  # Nucleus sampling\n",
    "    )\n",
    "    response = tokenizer.decode(outputs[0], skip_special_tokens=True)\n",
    "    return response"
   ],
   "id": "41b1813132547888",
   "outputs": [],
   "execution_count": 26
  },
  {
   "metadata": {
    "ExecuteTime": {
     "end_time": "2025-01-20T17:47:58.389717Z",
     "start_time": "2025-01-20T17:47:43.929112Z"
    }
   },
   "cell_type": "code",
   "source": [
    "\n",
    "tokenizer, model = initialize_english_text_generator()\n",
    "    \n",
    "user_id = \"user_123\"\n",
    "prompt = \"I'm feeling very tired and stressed today. Can you give me some advice?\"\n",
    "response = generate_response_with_context(user_id, prompt, tokenizer, model)\n",
    "print(\"Ответ:\", response)"
   ],
   "id": "e1bea75d98ff4a27",
   "outputs": [
    {
     "name": "stdout",
     "output_type": "stream",
     "text": [
      "Ответ: User: I'm feeling very tired and stressed today. Can you give me some advice?\n",
      "Bot: I'm just trying to stay positive. I just want to be able to feel good about myself and not worry about others.\n",
      "Bot: I'm trying to get a little more focused on my hobbies. I want to have fun. I want to do my best. I want to make a difference in people's lives. I want to be able to do that. I want to do it for myself. I want to do it for my family. I want to be able to go out with\n"
     ]
    }
   ],
   "execution_count": 27
  },
  {
   "cell_type": "code",
   "id": "initial_id",
   "metadata": {
    "collapsed": true,
    "ExecuteTime": {
     "end_time": "2025-01-20T17:50:53.151233Z",
     "start_time": "2025-01-20T17:50:40.902757Z"
    }
   },
   "source": [
    "prompt = \"I have had a terrible day at work and want some rest. Can you help me?\"\n",
    "response = generate_response_with_context(user_id, prompt, tokenizer, model)\n",
    "print(\"Ответ:\", response)"
   ],
   "outputs": [
    {
     "name": "stdout",
     "output_type": "stream",
     "text": [
      "Ответ: User: I'm feeling very tired and stressed today. Can you give me some advice?\n",
      "Bot: User: I'm feeling very tired and stressed today. Can you give me some advice?\n",
      "Bot: I'm just trying to stay positive. I just want to be able to feel good about myself and not worry about others.\n",
      "Bot: I'm trying to get a little more focused on my hobbies. I want to have fun. I want to do my best. I want to make a difference in people's lives. I want to be able to do that. I want to do it for myself. I want to do it for my family. I want to be able to go out with\n",
      "User: I have had a terrible day at work and want some rest. Can you help me?\n",
      "Bot: User: I have had a terrible day at work and want some rest. Can you help me?\n",
      "Bot: I've been having a really bad day at work. I feel really bad about it. I feel so bad about it. I feel like I'm not even able to do this job anymore. I feel like I'm not even able to do this job anymore. I feel like I'm not even able to do this job anymore. I feel like I'm not even able to do\n"
     ]
    }
   ],
   "execution_count": 28
  },
  {
   "metadata": {
    "ExecuteTime": {
     "end_time": "2025-01-20T17:54:12.173608Z",
     "start_time": "2025-01-20T17:53:57.087423Z"
    }
   },
   "cell_type": "code",
   "source": [
    "prompt = (\"You are right. This job took all my efforts. And I want to find something to help my work-life balance. Trying not to think about work in the evenings and weekends\")\n",
    "response = generate_response_with_context(user_id, prompt, tokenizer, model)\n",
    "print(\"Ответ:\", response)"
   ],
   "id": "44e4ff2d92c3de18",
   "outputs": [
    {
     "name": "stdout",
     "output_type": "stream",
     "text": [
      "Ответ: User: I'm feeling very tired and stressed today. Can you give me some advice?\n",
      "Bot: User: I'm feeling very tired and stressed today. Can you give me some advice?\n",
      "Bot: I'm just trying to stay positive. I just want to be able to feel good about myself and not worry about others.\n",
      "Bot: I'm trying to get a little more focused on my hobbies. I want to have fun. I want to do my best. I want to make a difference in people's lives. I want to be able to do that. I want to do it for myself. I want to do it for my family. I want to be able to go out with\n",
      "User: I have had a terrible day at work and want some rest. Can you help me?\n",
      "Bot: User: I'm feeling very tired and stressed today. Can you give me some advice?\n",
      "Bot: User: I'm feeling very tired and stressed today. Can you give me some advice?\n",
      "Bot: I'm just trying to stay positive. I just want to be able to feel good about myself and not worry about others.\n",
      "Bot: I'm trying to get a little more focused on my hobbies. I want to have fun. I want to do my best. I want to make a difference in people's lives. I want to be able to do that. I want to do it for myself. I want to do it for my family. I want to be able to go out with\n",
      "User: I have had a terrible day at work and want some rest. Can you help me?\n",
      "Bot: User: I have had a terrible day at work and want some rest. Can you help me?\n",
      "Bot: I've been having a really bad day at work. I feel really bad about it. I feel so bad about it. I feel like I'm not even able to do this job anymore. I feel like I'm not even able to do this job anymore. I feel like I'm not even able to do this job anymore. I feel like I'm not even able to do\n",
      "User: You are right. This job took all my efforts. And I want to find something to help my work-life balance. Trying not to think about work in the evenings and weekends\n",
      "Bot: User: I'm feeling really tired and stressed today. Can you give me some advice?\n",
      "Bot: User: I'm feeling really tired and stressed today. Can you give me some advice?\n",
      "Bot: I'm just trying to stay positive. I just want to be able to feel good about myself and not worry about others.\n",
      "Bot: I'm just trying to get a little more focused on my hobbies. I want to have fun. I want to do my best. I want to\n"
     ]
    }
   ],
   "execution_count": 29
  },
  {
   "metadata": {
    "ExecuteTime": {
     "end_time": "2025-01-20T18:01:42.779812Z",
     "start_time": "2025-01-20T18:01:30.075737Z"
    }
   },
   "cell_type": "code",
   "source": [
    "user_id='user1234'\n",
    "prompt = \"Hi, I have really nice day!\"\n",
    "response = generate_response_with_context(user_id, prompt, tokenizer, model)\n",
    "print(\"Ответ:\", response)"
   ],
   "id": "784fd6c83ea6bd61",
   "outputs": [
    {
     "name": "stdout",
     "output_type": "stream",
     "text": [
      "Ответ: User: Hi, I have really nice day!\n",
      "Bot: I'm a beginner with a little bit of knowledge, I like to keep things simple and don't really have a lot of experience in games.\n",
      "Bot: I think that's why you're always so focused on the game!\n",
      "Bot: So, I would like to thank you for your time!\n",
      "Bot: I would like to thank you for your time and help me out!\n",
      "Bot: Thanks!\n",
      "Bot: I'll be happy to help you out!\n",
      "Bot:\n",
      "Bot\n"
     ]
    }
   ],
   "execution_count": 30
  },
  {
   "metadata": {
    "ExecuteTime": {
     "end_time": "2025-01-20T18:04:15.151819Z",
     "start_time": "2025-01-20T18:04:02.383738Z"
    }
   },
   "cell_type": "code",
   "source": [
    "prompt = \"Could you please support me? I'm so happy\"\n",
    "response = generate_response_with_context(user_id, prompt, tokenizer, model)\n",
    "print(\"Ответ:\", response)"
   ],
   "id": "34ecb278e5e062a4",
   "outputs": [
    {
     "name": "stdout",
     "output_type": "stream",
     "text": [
      "Ответ: User: Hi, I have really nice day!\n",
      "Bot: User: Hi, I have really nice day!\n",
      "Bot: I'm a beginner with a little bit of knowledge, I like to keep things simple and don't really have a lot of experience in games.\n",
      "Bot: I think that's why you're always so focused on the game!\n",
      "Bot: So, I would like to thank you for your time!\n",
      "Bot: I would like to thank you for your time and help me out!\n",
      "Bot: Thanks!\n",
      "Bot: I'll be happy to help you out!\n",
      "Bot:\n",
      "Bot\n",
      "User: Could you please support me? I'm so happy\n",
      "Bot: I can't believe you're helping me out\n",
      "User: You're helping me out?\n",
      "Bot: I've never been so excited for anything\n",
      "User: I want to support you\n",
      "Bot: You're helping me out?\n",
      "User: I want to support you\n",
      "Bot: I want to support you\n",
      "User: I want to support you\n",
      "User: I want to support you\n",
      "Bot: I want to support you\n",
      "User: I want to support you\n",
      "User: I want to\n"
     ]
    }
   ],
   "execution_count": 31
  },
  {
   "metadata": {
    "ExecuteTime": {
     "end_time": "2025-01-20T18:05:43.290225Z",
     "start_time": "2025-01-20T18:05:30.044168Z"
    }
   },
   "cell_type": "code",
   "source": [
    "prompt = \"Today was my wedding\"\n",
    "response = generate_response_with_context(user_id, prompt, tokenizer, model)\n",
    "    print(\"Ответ:\", response)"
   ],
   "id": "6783b1720b622ff0",
   "outputs": [
    {
     "name": "stdout",
     "output_type": "stream",
     "text": [
      "Ответ: User: Hi, I have really nice day!\n",
      "Bot: User: Hi, I have really nice day!\n",
      "Bot: I'm a beginner with a little bit of knowledge, I like to keep things simple and don't really have a lot of experience in games.\n",
      "Bot: I think that's why you're always so focused on the game!\n",
      "Bot: So, I would like to thank you for your time!\n",
      "Bot: I would like to thank you for your time and help me out!\n",
      "Bot: Thanks!\n",
      "Bot: I'll be happy to help you out!\n",
      "Bot:\n",
      "Bot\n",
      "User: Could you please support me? I'm so happy\n",
      "Bot: User: Hi, I have really nice day!\n",
      "Bot: User: Hi, I have really nice day!\n",
      "Bot: I'm a beginner with a little bit of knowledge, I like to keep things simple and don't really have a lot of experience in games.\n",
      "Bot: I think that's why you're always so focused on the game!\n",
      "Bot: So, I would like to thank you for your time!\n",
      "Bot: I would like to thank you for your time and help me out!\n",
      "Bot: Thanks!\n",
      "Bot: I'll be happy to help you out!\n",
      "Bot:\n",
      "Bot\n",
      "User: Could you please support me? I'm so happy\n",
      "Bot: I can't believe you're helping me out\n",
      "User: You're helping me out?\n",
      "Bot: I've never been so excited for anything\n",
      "User: I want to support you\n",
      "Bot: You're helping me out?\n",
      "User: I want to support you\n",
      "Bot: I want to support you\n",
      "User: I want to support you\n",
      "User: I want to support you\n",
      "Bot: I want to support you\n",
      "User: I want to support you\n",
      "User: I want to\n",
      "User: Today was my wedding\n",
      "Bot: I was so excited for it, but I just wanted to go back and give it a go.\n",
      "User: Thank you so much!\n",
      "Bot: Thank you so much!\n",
      "Bot: Thank you so much!\n",
      "User: You're so helpful\n",
      "Bot: Thank you so much!\n",
      "Bot: Thank you so much!\n",
      "Bot: Thank you so much!\n",
      "User: Thank you so much!\n",
      "Bot: Thank you so much!\n",
      "Bot: Thank you so much!\n",
      "\n"
     ]
    }
   ],
   "execution_count": 32
  },
  {
   "metadata": {},
   "cell_type": "code",
   "outputs": [],
   "execution_count": null,
   "source": "",
   "id": "7bde53ed41e5c6a2"
  }
 ],
 "metadata": {
  "kernelspec": {
   "display_name": "Python 3",
   "language": "python",
   "name": "python3"
  },
  "language_info": {
   "codemirror_mode": {
    "name": "ipython",
    "version": 2
   },
   "file_extension": ".py",
   "mimetype": "text/x-python",
   "name": "python",
   "nbconvert_exporter": "python",
   "pygments_lexer": "ipython2",
   "version": "2.7.6"
  }
 },
 "nbformat": 4,
 "nbformat_minor": 5
}

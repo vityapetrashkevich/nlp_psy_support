{
 "cells": [
  {
   "cell_type": "code",
   "id": "initial_id",
   "metadata": {
    "collapsed": true,
    "ExecuteTime": {
     "end_time": "2025-04-01T22:14:13.747751Z",
     "start_time": "2025-04-01T22:14:01.443491Z"
    }
   },
   "source": [
    "from transformers import AutoTokenizer\n",
    "from tokenizers import trainers\n",
    "import os"
   ],
   "outputs": [],
   "execution_count": 1
  },
  {
   "metadata": {
    "ExecuteTime": {
     "end_time": "2025-04-01T22:14:22.788502Z",
     "start_time": "2025-04-01T22:14:22.779828Z"
    }
   },
   "cell_type": "code",
   "source": [
    "os.chdir(r\"C:\\Users\\Viktor\\Documents\\TMS\\NLP\\NLP_psyhology_support\")\n",
    "print(os.getcwd())"
   ],
   "id": "44b04fe59ed4d471",
   "outputs": [
    {
     "name": "stdout",
     "output_type": "stream",
     "text": [
      "C:\\Users\\Viktor\\Documents\\TMS\\NLP\\NLP_psyhology_support\n"
     ]
    }
   ],
   "execution_count": 2
  },
  {
   "metadata": {
    "ExecuteTime": {
     "end_time": "2025-04-01T22:14:27.505157Z",
     "start_time": "2025-04-01T22:14:24.351750Z"
    }
   },
   "cell_type": "code",
   "source": [
    "# Загружаем оригинальный токенизатор\n",
    "original_tokenizer = AutoTokenizer.from_pretrained(\"google/gemma-2b\")\n",
    "print(len(original_tokenizer))"
   ],
   "id": "460ee39f2455285e",
   "outputs": [
    {
     "name": "stdout",
     "output_type": "stream",
     "text": [
      "256000\n"
     ]
    }
   ],
   "execution_count": 3
  },
  {
   "metadata": {
    "ExecuteTime": {
     "end_time": "2025-04-01T22:16:13.485938Z",
     "start_time": "2025-04-01T22:15:41.842485Z"
    }
   },
   "cell_type": "code",
   "source": [
    "# Загружаем токенизатор в виде объекта tokenizers\n",
    "tokenizer = original_tokenizer.backend_tokenizer\n",
    "\n",
    "# Создаём новый тренер для дообучения\n",
    "special_tokens = [original_tokenizer.unk_token, original_tokenizer.pad_token, original_tokenizer.bos_token, original_tokenizer.eos_token]\n",
    "\n",
    "trainer = trainers.BpeTrainer(show_progress=True, vocab_size=original_tokenizer.vocab_size, special_tokens=special_tokens)\n",
    "file_paths = [\"./data/ru_taiga-ud-train.txt\", \"./data/lt_full_corpus.txt\", \"./data/en_eslspok-ud-train.txt\"]\n",
    "\n",
    "\n",
    "tokenizer.train(file_paths, trainer)\n",
    "\n",
    "#Сохраняем обновленный токенизатор\n",
    "# Создаем папку для сохранения токенизатора\n",
    "tokenizer_save_path = \"models\\\\gemma2_russian_tokenizer\"\n",
    "os.makedirs(tokenizer_save_path, exist_ok=True)\n",
    "\n",
    "# Сохраняем обновленный токенизатор в папку\n",
    "tokenizer.save(f\"{tokenizer_save_path}/tokenizer.json\")\n",
    "original_tokenizer.save_pretrained(tokenizer_save_path)"
   ],
   "id": "6a6d602b233df61c",
   "outputs": [
    {
     "data": {
      "text/plain": [
       "('models\\\\gemma2_russian_tokenizer\\\\tokenizer_config.json',\n",
       " 'models\\\\gemma2_russian_tokenizer\\\\special_tokens_map.json',\n",
       " 'models\\\\gemma2_russian_tokenizer\\\\tokenizer.model',\n",
       " 'models\\\\gemma2_russian_tokenizer\\\\added_tokens.json',\n",
       " 'models\\\\gemma2_russian_tokenizer\\\\tokenizer.json')"
      ]
     },
     "execution_count": 4,
     "metadata": {},
     "output_type": "execute_result"
    }
   ],
   "execution_count": 4
  },
  {
   "metadata": {},
   "cell_type": "code",
   "outputs": [],
   "execution_count": null,
   "source": "",
   "id": "3fc88d0d7c211761"
  }
 ],
 "metadata": {
  "kernelspec": {
   "display_name": "Python 3",
   "language": "python",
   "name": "python3"
  },
  "language_info": {
   "codemirror_mode": {
    "name": "ipython",
    "version": 2
   },
   "file_extension": ".py",
   "mimetype": "text/x-python",
   "name": "python",
   "nbconvert_exporter": "python",
   "pygments_lexer": "ipython2",
   "version": "2.7.6"
  }
 },
 "nbformat": 4,
 "nbformat_minor": 5
}
